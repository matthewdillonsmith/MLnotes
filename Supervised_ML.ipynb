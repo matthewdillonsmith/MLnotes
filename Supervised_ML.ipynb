{
  "nbformat": 4,
  "nbformat_minor": 0,
  "metadata": {
    "colab": {
      "name": "Supervised ML.ipynb",
      "provenance": [],
      "authorship_tag": "ABX9TyPfa6C5NwEgKnov9sd90n4E",
      "include_colab_link": true
    },
    "kernelspec": {
      "name": "python3",
      "display_name": "Python 3"
    },
    "language_info": {
      "name": "python"
    }
  },
  "cells": [
    {
      "cell_type": "markdown",
      "metadata": {
        "id": "view-in-github",
        "colab_type": "text"
      },
      "source": [
        "<a href=\"https://colab.research.google.com/github/matthewdillonsmith/MLnotes/blob/main/Supervised_ML.ipynb\" target=\"_parent\"><img src=\"https://colab.research.google.com/assets/colab-badge.svg\" alt=\"Open In Colab\"/></a>"
      ]
    },
    {
      "cell_type": "markdown",
      "source": [
        "#Supervised Learning with sckikit-learn\n",
        "- <b>What is machine learning?</b>\n",
        "  - The art and science of:\n",
        "    - giving computers the ability to learn and to make decision from data\n",
        "    - without being explicitly programmed\n",
        "  - Examples:\n",
        "    - Learning to predict whether an email is spam or not\n",
        "    - Clustering wikiperdia entries into different categories\n",
        "  -  <b><i><u>Supervised learning</u></i></b>: Uses labeled data\n",
        "  -  <b><i><u>Unsupervised learning</u></i></b>: Uses unlabeled data\n",
        "<br>\n",
        "<br>\n",
        "- <b>Unsupervised learning</b>:\n",
        "  - Uncovering hidden patterns from unlabeled data\n",
        "  - Example:\n",
        "    - Grouping customers into distinct caategories (Clustering)\n",
        "<br>\n",
        "<br>\n",
        "- <b>Reinforcement learning</b>:\n",
        "  - Software agents interact with an environment\n",
        "    - Learning how to optimize their behavior\n",
        "    - Given a system of rewards and punishments\n",
        "    - Draws inspiration from behavioral psychology\n",
        "  - Applications:\n",
        "    - Economics\n",
        "    - Genetics\n",
        "    - Game playing\n",
        "\n",
        "\n"
      ],
      "metadata": {
        "id": "SYn75TDhu1No"
      }
    },
    {
      "cell_type": "markdown",
      "source": [
        "##Classification\n",
        "<hr>"
      ],
      "metadata": {
        "id": "ILOQo25Vu7Od"
      }
    },
    {
      "cell_type": "code",
      "execution_count": null,
      "metadata": {
        "id": "I5bPqAJQun07"
      },
      "outputs": [],
      "source": [
        ""
      ]
    }
  ]
}