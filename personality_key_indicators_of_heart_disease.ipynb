{
  "nbformat": 4,
  "nbformat_minor": 0,
  "metadata": {
    "colab": {
      "name": "personality-key-indicators-of-heart-disease.ipynb",
      "provenance": [],
      "authorship_tag": "ABX9TyOn6FaAaM6LLWXLNuXnubqL",
      "include_colab_link": true
    },
    "kernelspec": {
      "name": "python3",
      "display_name": "Python 3"
    },
    "language_info": {
      "name": "python"
    }
  },
  "cells": [
    {
      "cell_type": "markdown",
      "metadata": {
        "id": "view-in-github",
        "colab_type": "text"
      },
      "source": [
        "<a href=\"https://colab.research.google.com/github/matthewdillonsmith/MLnotes/blob/main/personality_key_indicators_of_heart_disease.ipynb\" target=\"_parent\"><img src=\"https://colab.research.google.com/assets/colab-badge.svg\" alt=\"Open In Colab\"/></a>"
      ]
    },
    {
      "cell_type": "code",
      "execution_count": null,
      "metadata": {
        "id": "PbS8vfS4JYkc"
      },
      "outputs": [],
      "source": [
        ""
      ]
    }
  ]
}